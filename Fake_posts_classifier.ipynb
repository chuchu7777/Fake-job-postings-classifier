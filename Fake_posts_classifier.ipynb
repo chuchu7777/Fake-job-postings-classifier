{
 "cells": [
  {
   "cell_type": "code",
   "execution_count": 1,
   "id": "0fd4ea90-89f4-4d02-9d49-728f92f16050",
   "metadata": {},
   "outputs": [
    {
     "name": "stderr",
     "output_type": "stream",
     "text": [
      "2023-08-02 16:56:04.886280: I tensorflow/core/platform/cpu_feature_guard.cc:182] This TensorFlow binary is optimized to use available CPU instructions in performance-critical operations.\n",
      "To enable the following instructions: AVX2 AVX512F AVX512_VNNI FMA, in other operations, rebuild TensorFlow with the appropriate compiler flags.\n"
     ]
    }
   ],
   "source": [
    "import numpy as np\n",
    "import pandas as pd\n",
    "import seaborn as sns\n",
    "import matplotlib.pyplot as plt\n",
    "from tqdm import tqdm\n",
    "import time\n",
    "import nltk\n",
    "from sklearn.feature_extraction.text import CountVectorizer\n",
    "from sklearn.feature_extraction.text import TfidfVectorizer\n",
    "from sklearn.preprocessing import LabelBinarizer\n",
    "from nltk.corpus import stopwords\n",
    "from nltk.stem.porter import PorterStemmer\n",
    "from wordcloud import WordCloud,STOPWORDS\n",
    "from nltk.stem import WordNetLemmatizer\n",
    "from nltk.tokenize import word_tokenize,sent_tokenize\n",
    "from bs4 import BeautifulSoup\n",
    "import re,string,unicodedata\n",
    "from nltk.tokenize.toktok import ToktokTokenizer\n",
    "from nltk.stem import LancasterStemmer,WordNetLemmatizer\n",
    "from sklearn.linear_model import LogisticRegression,SGDClassifier\n",
    "from sklearn.naive_bayes import MultinomialNB\n",
    "from sklearn.svm import SVC\n",
    "from sklearn.metrics import classification_report,confusion_matrix,accuracy_score\n",
    "from sklearn.model_selection import train_test_split\n",
    "from string import punctuation\n",
    "from nltk import pos_tag\n",
    "from nltk.corpus import wordnet\n",
    "import keras\n",
    "from keras.layers import Dense\n",
    "from keras.models import Sequential\n",
    "\n",
    "from sklearn import preprocessing\n",
    "from sklearn.datasets import make_moons, make_circles, make_classification\n",
    "from sklearn.neural_network import MLPClassifier\n",
    "from sklearn.neighbors import KNeighborsClassifier\n",
    "from sklearn.gaussian_process import GaussianProcessClassifier\n",
    "from sklearn.gaussian_process.kernels import RBF\n",
    "from sklearn.tree import DecisionTreeClassifier\n",
    "from sklearn.ensemble import RandomForestClassifier, AdaBoostClassifier\n",
    "import statsmodels.api as sm\n",
    "from sklearn.naive_bayes import GaussianNB\n",
    "from sklearn.discriminant_analysis import QuadraticDiscriminantAnalysis\n",
    "from sklearn.model_selection import train_test_split #training and testing data split\n",
    "from sklearn import metrics #accuracy measure\n",
    "from sklearn.metrics import confusion_matrix #for confusion matrix\n",
    "from sklearn.preprocessing import StandardScaler, LabelEncoder\n",
    "from sklearn.ensemble import VotingClassifier\n",
    "from sklearn.pipeline import Pipeline\n",
    "from sklearn.model_selection import GridSearchCV, RandomizedSearchCV, cross_val_score, learning_curve, train_test_split\n",
    "from sklearn.metrics import precision_score, roc_auc_score, recall_score, confusion_matrix, roc_curve, precision_recall_curve, accuracy_score\n",
    "import warnings\n",
    "from sklearn.metrics import ConfusionMatrixDisplay\n",
    "import string\n",
    "from sklearn.metrics import mean_squared_error\n",
    "warnings.filterwarnings('ignore')"
   ]
  },
  {
   "cell_type": "code",
   "execution_count": 21,
   "id": "0003f70f-19b3-4c2f-be7b-df6b304782e4",
   "metadata": {},
   "outputs": [],
   "source": [
    "X_train = pd.read_csv(\"train_text.csv\")\n",
    "X_test = pd.read_csv(\"test_text.csv\")\n",
    "y_train = pd.read_csv(\"train_target.csv\")\n",
    "y_test = pd.read_csv(\"test_target.csv\")"
   ]
  },
  {
   "cell_type": "code",
   "execution_count": 8,
   "id": "e6bc2e6c-3407-4a44-a446-98d106f97d32",
   "metadata": {},
   "outputs": [
    {
     "name": "stderr",
     "output_type": "stream",
     "text": [
      "[nltk_data] Downloading package stopwords to\n",
      "[nltk_data]     /Users/shengshuyue/nltk_data...\n",
      "[nltk_data]   Package stopwords is already up-to-date!\n"
     ]
    },
    {
     "data": {
      "text/plain": [
       "True"
      ]
     },
     "execution_count": 8,
     "metadata": {},
     "output_type": "execute_result"
    }
   ],
   "source": [
    "import nltk\n",
    "nltk.download('stopwords')"
   ]
  },
  {
   "cell_type": "code",
   "execution_count": 9,
   "id": "0c79a245-87ae-494b-a079-07a55f2699f0",
   "metadata": {},
   "outputs": [],
   "source": [
    "stop = set(stopwords.words('english'))\n",
    "punctuation = list(string.punctuation)\n",
    "stop.update(punctuation)"
   ]
  },
  {
   "cell_type": "code",
   "execution_count": 10,
   "id": "c612cc35-125e-4969-b9e3-3920d6ab9ecf",
   "metadata": {},
   "outputs": [],
   "source": [
    "def get_simple_pos(tag):\n",
    "    if tag.startswith('J'):\n",
    "        return wordnet.ADJ\n",
    "    elif tag.startswith('V'):\n",
    "        return wordnet.VERB\n",
    "    elif tag.startswith('N'):\n",
    "        return wordnet.NOUN\n",
    "    elif tag.startswith('R'):\n",
    "        return wordnet.ADV\n",
    "    else:\n",
    "        return wordnet.NOUN"
   ]
  },
  {
   "cell_type": "code",
   "execution_count": 11,
   "id": "0d680cdd-64d4-4e77-b031-923a63957c42",
   "metadata": {},
   "outputs": [],
   "source": [
    "lemmatizer = WordNetLemmatizer()\n",
    "def lemmatize_words(text):\n",
    "    final_text = []\n",
    "    for i in text.split():\n",
    "        if i.strip().lower() not in stop:\n",
    "            pos = pos_tag([i.strip()])\n",
    "            word = lemmatizer.lemmatize(i.strip(),get_simple_pos(pos[0][1]))\n",
    "            final_text.append(word.lower())\n",
    "    return \" \".join(final_text)"
   ]
  },
  {
   "cell_type": "code",
   "execution_count": 12,
   "id": "3b1e9976-6112-4ce1-80d3-e8b3085c9bb7",
   "metadata": {},
   "outputs": [
    {
     "name": "stderr",
     "output_type": "stream",
     "text": [
      "[nltk_data] Downloading package averaged_perceptron_tagger to\n",
      "[nltk_data]     /Users/shengshuyue/nltk_data...\n",
      "[nltk_data]   Package averaged_perceptron_tagger is already up-to-\n",
      "[nltk_data]       date!\n",
      "[nltk_data] Downloading package wordnet to\n",
      "[nltk_data]     /Users/shengshuyue/nltk_data...\n",
      "[nltk_data]   Package wordnet is already up-to-date!\n",
      "[nltk_data] Downloading package omw-1.4 to\n",
      "[nltk_data]     /Users/shengshuyue/nltk_data...\n",
      "[nltk_data]   Package omw-1.4 is already up-to-date!\n"
     ]
    },
    {
     "data": {
      "text/plain": [
       "True"
      ]
     },
     "execution_count": 12,
     "metadata": {},
     "output_type": "execute_result"
    }
   ],
   "source": [
    "nltk.download('averaged_perceptron_tagger')\n",
    "nltk.download('wordnet')\n",
    "nltk.download('omw-1.4')"
   ]
  },
  {
   "cell_type": "code",
   "execution_count": 22,
   "id": "90ecdb2f-3a9a-47ee-afa8-1b1b16216cac",
   "metadata": {},
   "outputs": [],
   "source": [
    "X_train.text = X_train.text.apply(lemmatize_words)\n",
    "X_test.text = X_test.text.apply(lemmatize_words)"
   ]
  },
  {
   "cell_type": "code",
   "execution_count": 23,
   "id": "7d554373-b50f-4c2d-9d19-ae5cd7a95401",
   "metadata": {},
   "outputs": [
    {
     "data": {
      "text/plain": [
       "<AxesSubplot:xlabel='fraudulent', ylabel='count'>"
      ]
     },
     "execution_count": 23,
     "metadata": {},
     "output_type": "execute_result"
    },
    {
     "data": {
      "image/png": "[encoded data removed]",
      "text/plain": [
       "<Figure size 432x288 with 1 Axes>"
      ]
     },
     "metadata": {},
     "output_type": "display_data"
    }
   ],
   "source": [
    "sns.set(style=\"darkgrid\")\n",
    "sns.countplot(x = \"fraudulent\" , data = y_train)"
   ]
  },
  {
   "cell_type": "code",
   "execution_count": 28,
   "id": "9ef5a034-c89f-4fce-8a34-d1cf7df08521",
   "metadata": {},
   "outputs": [
    {
     "name": "stdout",
     "output_type": "stream",
     "text": [
      "BOW_cv_train: (15992, 1581000)\n",
      "BOW_cv_test: (4008, 1581000)\n"
     ]
    }
   ],
   "source": [
    "cv=CountVectorizer(min_df=0,max_df=1,binary=False,ngram_range=(1,3))\n",
    "#transformed train reviews\n",
    "cv_train_reviews=cv.fit_transform(X_train.text)\n",
    "#transformed test reviews\n",
    "cv_test_reviews=cv.transform(X_test.text)\n",
    "\n",
    "print('BOW_cv_train:',cv_train_reviews.shape)\n",
    "print('BOW_cv_test:',cv_test_reviews.shape)"
   ]
  },
  {
   "cell_type": "code",
   "execution_count": 29,
   "id": "5f156a38-ac74-4144-b906-12fb73de13eb",
   "metadata": {},
   "outputs": [
    {
     "name": "stdout",
     "output_type": "stream",
     "text": [
      "Tfidf_train: (15992, 1581000)\n",
      "Tfidf_test: (4008, 1581000)\n"
     ]
    }
   ],
   "source": [
    "tv=TfidfVectorizer(min_df=0,max_df=1,use_idf=True,ngram_range=(1,3))\n",
    "#transformed train reviews\n",
    "tv_train_reviews=tv.fit_transform(X_train.text)\n",
    "#transformed test reviews\n",
    "tv_test_reviews=tv.transform(X_test.text)\n",
    "print('Tfidf_train:',tv_train_reviews.shape)\n",
    "print('Tfidf_test:',tv_test_reviews.shape)"
   ]
  },
  {
   "cell_type": "markdown",
   "id": "35e4ca84-7302-495d-93c4-c7509a2aeacc",
   "metadata": {},
   "source": [
    "#### MultinomialNB"
   ]
  },
  {
   "cell_type": "code",
   "execution_count": 30,
   "id": "20533e52-a0dc-4d1a-a56c-835f8fc05acb",
   "metadata": {},
   "outputs": [
    {
     "name": "stdout",
     "output_type": "stream",
     "text": [
      "MultinomialNB(alpha=10)\n",
      "MultinomialNB(alpha=10)\n"
     ]
    }
   ],
   "source": [
    "#training the model\n",
    "mnb=MultinomialNB(alpha = 10)\n",
    "#fitting the nb for bag of words\n",
    "mnb_bow=mnb.fit(cv_train_reviews,y_train)\n",
    "print(mnb_bow)\n",
    "#fitting the nb for tfidf features\n",
    "mnb_tfidf=mnb.fit(tv_train_reviews,y_train)\n",
    "print(mnb_tfidf)"
   ]
  },
  {
   "cell_type": "code",
   "execution_count": 31,
   "id": "8a44e48e-970b-4f5b-bfbf-81c675427c3b",
   "metadata": {},
   "outputs": [],
   "source": [
    "#Predicting the model for bag of words\n",
    "mnb_bow_predict=mnb.predict(cv_test_reviews)\n",
    "#Predicting the model for tfidf features\n",
    "mnb_tfidf_predict=mnb.predict(tv_test_reviews)"
   ]
  },
  {
   "cell_type": "code",
   "execution_count": 32,
   "id": "ced5c9a6-9d8e-4849-b0d8-2951267898a4",
   "metadata": {},
   "outputs": [
    {
     "data": {
      "text/plain": [
       "0.9860187067060022"
      ]
     },
     "execution_count": 32,
     "metadata": {},
     "output_type": "execute_result"
    }
   ],
   "source": [
    "y_pred = mnb.predict_proba(cv_test_reviews)[:, 1]\n",
    "cv_auc = roc_auc_score(y_test, y_pred)\n",
    "cv_auc"
   ]
  },
  {
   "cell_type": "code",
   "execution_count": 33,
   "id": "e9af2570-4816-414a-b048-9022d28f701b",
   "metadata": {},
   "outputs": [
    {
     "data": {
      "text/plain": [
       "0.1830499468650372"
      ]
     },
     "execution_count": 33,
     "metadata": {},
     "output_type": "execute_result"
    }
   ],
   "source": [
    "tn, fp, fn, tp = confusion_matrix(y_test, mnb_bow_predict).ravel()\n",
    "cv_ber = 0.5 * (fp / (fp + tn) + fn / (fn + tp))\n",
    "cv_ber"
   ]
  },
  {
   "cell_type": "code",
   "execution_count": 34,
   "id": "e6de6f19-2fde-4240-ab13-92078709d089",
   "metadata": {},
   "outputs": [
    {
     "data": {
      "text/plain": [
       "0.8280938123752495"
      ]
     },
     "execution_count": 34,
     "metadata": {},
     "output_type": "execute_result"
    }
   ],
   "source": [
    "accuracy_score(mnb_bow_predict,y_test)"
   ]
  },
  {
   "cell_type": "code",
   "execution_count": 35,
   "id": "d4495388-f962-43cc-82eb-79199721c9c9",
   "metadata": {},
   "outputs": [
    {
     "data": {
      "text/plain": [
       "0.9858090160484583"
      ]
     },
     "execution_count": 35,
     "metadata": {},
     "output_type": "execute_result"
    }
   ],
   "source": [
    "y_pred = mnb.predict_proba(tv_test_reviews)[:, 1]\n",
    "tv_auc = roc_auc_score(y_test, y_pred)\n",
    "tv_auc"
   ]
  },
  {
   "cell_type": "code",
   "execution_count": 36,
   "id": "4710fdd3-fab0-4e38-9dd7-6c80efa4c177",
   "metadata": {},
   "outputs": [
    {
     "data": {
      "text/plain": [
       "0.48352816153028694"
      ]
     },
     "execution_count": 36,
     "metadata": {},
     "output_type": "execute_result"
    }
   ],
   "source": [
    "tn, fp, fn, tp = confusion_matrix(y_test, mnb_tfidf_predict).ravel()\n",
    "tv_ber = 0.5 * (fp / (fp + tn) + fn / (fn + tp))\n",
    "tv_ber"
   ]
  },
  {
   "cell_type": "code",
   "execution_count": 37,
   "id": "81666a43-1b69-4742-af4e-f35dbb5246e8",
   "metadata": {},
   "outputs": [
    {
     "data": {
      "text/plain": [
       "0.5459081836327345"
      ]
     },
     "execution_count": 37,
     "metadata": {},
     "output_type": "execute_result"
    }
   ],
   "source": [
    "accuracy_score(mnb_tfidf_predict,y_test)"
   ]
  },
  {
   "cell_type": "markdown",
   "id": "b677404c-1831-4ce7-8d7e-5fb56fe7b21b",
   "metadata": {},
   "source": [
    "#### knn"
   ]
  },
  {
   "cell_type": "code",
   "execution_count": 38,
   "id": "2ba9288e-fa0b-4f9a-9b59-22276ca3efc1",
   "metadata": {},
   "outputs": [
    {
     "name": "stdout",
     "output_type": "stream",
     "text": [
      "KNeighborsClassifier(leaf_size=20, n_neighbors=3)\n",
      "KNeighborsClassifier(leaf_size=20, n_neighbors=3)\n"
     ]
    }
   ],
   "source": [
    "#training the model\n",
    "knn=KNeighborsClassifier(n_neighbors=3, leaf_size = 20)\n",
    "#fitting the nb for bag of words\n",
    "knn_bow=knn.fit(cv_train_reviews,y_train)\n",
    "print(knn_bow)\n",
    "#fitting the nb for tfidf features\n",
    "knn_tfidf=knn.fit(tv_train_reviews,y_train)\n",
    "print(knn_tfidf)"
   ]
  },
  {
   "cell_type": "code",
   "execution_count": 39,
   "id": "ac6418f2-b1d4-49c1-89bf-b29fb846944f",
   "metadata": {},
   "outputs": [],
   "source": [
    "knn_bow_predict=knn.predict(cv_test_reviews)\n",
    "#Predicting the model for tfidf features\n",
    "knn_tfidf_predict=knn.predict(tv_test_reviews)"
   ]
  },
  {
   "cell_type": "code",
   "execution_count": 40,
   "id": "2351cac1-9edc-4f96-8153-76fd3882ffb9",
   "metadata": {},
   "outputs": [
    {
     "data": {
      "text/plain": [
       "0.808799859639722"
      ]
     },
     "execution_count": 40,
     "metadata": {},
     "output_type": "execute_result"
    }
   ],
   "source": [
    "y_pred = knn.predict_proba(cv_test_reviews)[:, 1]\n",
    "cv_auc = roc_auc_score(y_test, y_pred)\n",
    "cv_auc"
   ]
  },
  {
   "cell_type": "code",
   "execution_count": 41,
   "id": "9b41d044-ada9-47f2-9450-ef7e1a63f716",
   "metadata": {},
   "outputs": [
    {
     "data": {
      "text/plain": [
       "0.5726716839134525"
      ]
     },
     "execution_count": 41,
     "metadata": {},
     "output_type": "execute_result"
    }
   ],
   "source": [
    "y_pred = knn.predict_proba(tv_test_reviews)[:, 1]\n",
    "tv_auc = roc_auc_score(y_test, y_pred)\n",
    "tv_auc"
   ]
  },
  {
   "cell_type": "code",
   "execution_count": 42,
   "id": "90681cb1-cad7-4a69-b053-94e734446e79",
   "metadata": {},
   "outputs": [
    {
     "data": {
      "text/plain": [
       "0.3539815732147802"
      ]
     },
     "execution_count": 42,
     "metadata": {},
     "output_type": "execute_result"
    }
   ],
   "source": [
    "tn, fp, fn, tp = confusion_matrix(y_test, knn_bow_predict).ravel()\n",
    "ber = 0.5 * (fp / (fp + tn) + fn / (fn + tp))\n",
    "ber"
   ]
  },
  {
   "cell_type": "code",
   "execution_count": 43,
   "id": "296ab02a-31fe-4005-93db-962019a1cfa5",
   "metadata": {},
   "outputs": [
    {
     "data": {
      "text/plain": [
       "0.4995296331138288"
      ]
     },
     "execution_count": 43,
     "metadata": {},
     "output_type": "execute_result"
    }
   ],
   "source": [
    "tn, fp, fn, tp = confusion_matrix(y_test, knn_tfidf_predict).ravel()\n",
    "ber = 0.5 * (fp / (fp + tn) + fn / (fn + tp))\n",
    "ber"
   ]
  },
  {
   "cell_type": "code",
   "execution_count": 44,
   "id": "11c2ab8c-fa19-446f-a83b-66763427a546",
   "metadata": {},
   "outputs": [
    {
     "data": {
      "text/plain": [
       "0.6245009980039921"
      ]
     },
     "execution_count": 44,
     "metadata": {},
     "output_type": "execute_result"
    }
   ],
   "source": [
    "accuracy_score(knn_bow_predict,y_test)"
   ]
  },
  {
   "cell_type": "code",
   "execution_count": 45,
   "id": "03022b7e-2d45-4a76-b26b-3491bd1386f7",
   "metadata": {},
   "outputs": [
    {
     "data": {
      "text/plain": [
       "0.47005988023952094"
      ]
     },
     "execution_count": 45,
     "metadata": {},
     "output_type": "execute_result"
    }
   ],
   "source": [
    "accuracy_score(knn_tfidf_predict,y_test)"
   ]
  },
  {
   "cell_type": "markdown",
   "id": "581a4641-2e02-40f5-adca-3bd7783e9ee7",
   "metadata": {},
   "source": [
    "#### Neural Network"
   ]
  },
  {
   "cell_type": "code",
   "execution_count": 46,
   "id": "c75c6d10-e0ef-4148-aaf0-d64d75ca0834",
   "metadata": {},
   "outputs": [
    {
     "name": "stdout",
     "output_type": "stream",
     "text": [
      "MLPClassifier()\n",
      "MLPClassifier()\n"
     ]
    }
   ],
   "source": [
    "nn=MLPClassifier()\n",
    "#fitting the nb for bag of words\n",
    "nn_bow=nn.fit(cv_train_reviews,y_train)\n",
    "print(nn_bow)\n",
    "#fitting the nb for tfidf features\n",
    "nn_tfidf=nn.fit(tv_train_reviews,y_train)\n",
    "print(nn_tfidf)"
   ]
  },
  {
   "cell_type": "code",
   "execution_count": 47,
   "id": "c98507cd-2e98-44a2-a0ae-dca66e963d80",
   "metadata": {},
   "outputs": [],
   "source": [
    "nn_bow_predict=nn.predict(cv_test_reviews)\n",
    "#Predicting the model for tfidf features\n",
    "nn_tfidf_predict=nn.predict(tv_test_reviews)"
   ]
  },
  {
   "cell_type": "code",
   "execution_count": 48,
   "id": "dddf763c-5547-48a8-859a-4b165d06a7e6",
   "metadata": {},
   "outputs": [
    {
     "data": {
      "text/plain": [
       "0.8505899080560202"
      ]
     },
     "execution_count": 48,
     "metadata": {},
     "output_type": "execute_result"
    }
   ],
   "source": [
    "y_pred = nn.predict_proba(cv_test_reviews)[:, 1]\n",
    "cv_auc = roc_auc_score(y_test, y_pred)\n",
    "cv_auc"
   ]
  },
  {
   "cell_type": "code",
   "execution_count": 49,
   "id": "d4be14fe-530b-4368-b35e-c82498770ae9",
   "metadata": {},
   "outputs": [
    {
     "data": {
      "text/plain": [
       "0.8518203098523118"
      ]
     },
     "execution_count": 49,
     "metadata": {},
     "output_type": "execute_result"
    }
   ],
   "source": [
    "y_pred = nn.predict_proba(tv_test_reviews)[:, 1]\n",
    "tv_auc = roc_auc_score(y_test, y_pred)\n",
    "tv_auc"
   ]
  },
  {
   "cell_type": "code",
   "execution_count": 50,
   "id": "75615e8b-288c-4ba1-8df5-cfb8c3221186",
   "metadata": {},
   "outputs": [
    {
     "data": {
      "text/plain": [
       "0.4108132398531215"
      ]
     },
     "execution_count": 50,
     "metadata": {},
     "output_type": "execute_result"
    }
   ],
   "source": [
    "tn, fp, fn, tp = confusion_matrix(y_test, nn_bow_predict).ravel()\n",
    "ber = 0.5 * (fp / (fp + tn) + fn / (fn + tp))\n",
    "ber"
   ]
  },
  {
   "cell_type": "code",
   "execution_count": 51,
   "id": "14cab764-fdf7-4be9-acbe-7a23d7218ebf",
   "metadata": {},
   "outputs": [
    {
     "data": {
      "text/plain": [
       "0.4891815616180621"
      ]
     },
     "execution_count": 51,
     "metadata": {},
     "output_type": "execute_result"
    }
   ],
   "source": [
    "tn, fp, fn, tp = confusion_matrix(y_test, nn_tfidf_predict).ravel()\n",
    "ber = 0.5 * (fp / (fp + tn) + fn / (fn + tp))\n",
    "ber"
   ]
  },
  {
   "cell_type": "code",
   "execution_count": 52,
   "id": "35ce9c97-894e-4005-96cf-bec84ca2a7e9",
   "metadata": {},
   "outputs": [
    {
     "name": "stdout",
     "output_type": "stream",
     "text": [
      "nn_bow_score : 0.5643712574850299\n",
      "nn_tfidf_score : 0.4810379241516966\n"
     ]
    }
   ],
   "source": [
    "nn_bow_score=accuracy_score(y_test,nn_bow_predict)\n",
    "print(\"nn_bow_score :\",nn_bow_score)\n",
    "#Accuracy score for tfidf features\n",
    "nn_tfidf_score=accuracy_score(y_test,nn_tfidf_predict)\n",
    "print(\"nn_tfidf_score :\",nn_tfidf_score)"
   ]
  },
  {
   "cell_type": "markdown",
   "id": "871de6be-ea2e-4686-b2e3-e25780cd961c",
   "metadata": {},
   "source": [
    "#### hirebeat test"
   ]
  },
  {
   "cell_type": "code",
   "execution_count": 54,
   "id": "90e278fd-47c2-4e7c-ac59-91c0acd61081",
   "metadata": {},
   "outputs": [],
   "source": [
    "df2 = pd.read_csv(\"HireBeat_fake_post.csv\")"
   ]
  },
  {
   "cell_type": "code",
   "execution_count": 55,
   "id": "945c2799-176d-4db3-a571-9ccedb2a29fa",
   "metadata": {},
   "outputs": [],
   "source": [
    "df2_drop_column = df2[['Job title','Job description','Job location','Job level',\n",
    "                       'Company type','Company overview','Skills','Education']]"
   ]
  },
  {
   "cell_type": "code",
   "execution_count": 56,
   "id": "39ca93db-2f2d-402b-8b42-b774fae101cb",
   "metadata": {},
   "outputs": [],
   "source": [
    "df2_drop_column.fillna(\" \",inplace = True)"
   ]
  },
  {
   "cell_type": "code",
   "execution_count": 57,
   "id": "72ee7f2c-43bb-4911-ab9a-3b81e38bc79a",
   "metadata": {},
   "outputs": [],
   "source": [
    "import pandas as pd\n",
    "from bs4 import BeautifulSoup\n",
    "\n",
    "# Function to convert HTML to plain text\n",
    "def html_to_text(html):\n",
    "    soup = BeautifulSoup(html, 'html.parser')\n",
    "    return soup.get_text()\n",
    "\n",
    "# Apply the function to each cell in the dataframe\n",
    "df2_drop_column['Job description'] = df2_drop_column['Job description'].apply(html_to_text)\n",
    "df2_drop_column['Company overview'] = df2_drop_column['Company overview'].apply(html_to_text)"
   ]
  },
  {
   "cell_type": "code",
   "execution_count": 58,
   "id": "a7db3f67-fb40-4ce5-aead-b581c9a5bb03",
   "metadata": {},
   "outputs": [],
   "source": [
    "df2_drop_column['fraudulent'] = 1"
   ]
  },
  {
   "cell_type": "code",
   "execution_count": 59,
   "id": "78d20157-a10a-4c4b-821f-2e31071115b0",
   "metadata": {},
   "outputs": [],
   "source": [
    "def array_to_text(data): #Translate json format array into text\n",
    "    try:\n",
    "        data = ast.literal_eval(data)\n",
    "        values = [item.split(\":\")[1].strip().replace(\"\\'\", \"\").replace('label', '').rstrip(', ') for item in data]\n",
    "        values = \",\".join(values)\n",
    "        if values ==\"\": return \" \"\n",
    "        else: return values\n",
    "    except: \n",
    "        if data ==\"\": return \" \"\n",
    "        else: return data"
   ]
  },
  {
   "cell_type": "code",
   "execution_count": 60,
   "id": "5d0cf874-e921-4446-8159-a49cf80652e9",
   "metadata": {},
   "outputs": [],
   "source": [
    "cleaned_df = df2_drop_column"
   ]
  },
  {
   "cell_type": "code",
   "execution_count": 61,
   "id": "62067e6b-6970-46ab-9ded-1a630607cb7c",
   "metadata": {},
   "outputs": [],
   "source": [
    "cleaned_df[\"Skills\"]=cleaned_df[\"Skills\"].apply(array_to_text)"
   ]
  },
  {
   "cell_type": "code",
   "execution_count": 63,
   "id": "0a84b030-cf18-4fff-bb3b-aa6267f6d616",
   "metadata": {},
   "outputs": [],
   "source": [
    "def convert_to_plain_string(skill):\n",
    "    if isinstance(skill, list):\n",
    "        return ' '.join(skill)\n",
    "    return skill\n",
    "\n",
    "# Apply the function to the \"Skills\" column\n",
    "cleaned_df['Skills'] = cleaned_df['Skills'].apply(convert_to_plain_string)"
   ]
  },
  {
   "cell_type": "code",
   "execution_count": 64,
   "id": "ab974f9b-7889-4fbb-a5f2-55bd23b08aca",
   "metadata": {},
   "outputs": [],
   "source": [
    "data = cleaned_df"
   ]
  },
  {
   "cell_type": "code",
   "execution_count": 65,
   "id": "60837610-a336-435a-b982-8d3c905937f4",
   "metadata": {},
   "outputs": [],
   "source": [
    "data['text'] = data['Job description'] + ' ' + data['Company overview'] + ' ' + data['Skills'] + ' ' + data['Job title'] + ' ' + data['Job location'] + ' ' + data['Company type'] + ' ' +data['Job level'] + ' ' + data['Education']"
   ]
  },
  {
   "cell_type": "code",
   "execution_count": 66,
   "id": "ce0fc2b3-ef1e-4232-a4f7-d3e16fc9d380",
   "metadata": {},
   "outputs": [],
   "source": [
    "del data['Job description']\n",
    "del data['Company overview']\n",
    "del data['Skills']\n",
    "del data['Job title']\n",
    "del data['Job location']\n",
    "del data['Company type']\n",
    "del data['Job level']\n",
    "del data['Education']"
   ]
  },
  {
   "cell_type": "code",
   "execution_count": 67,
   "id": "95a6fa94-2a05-4054-bca5-e5995c89c264",
   "metadata": {},
   "outputs": [
    {
     "name": "stderr",
     "output_type": "stream",
     "text": [
      "[nltk_data] Downloading package stopwords to\n",
      "[nltk_data]     /Users/shengshuyue/nltk_data...\n",
      "[nltk_data]   Package stopwords is already up-to-date!\n"
     ]
    },
    {
     "data": {
      "text/plain": [
       "True"
      ]
     },
     "execution_count": 67,
     "metadata": {},
     "output_type": "execute_result"
    }
   ],
   "source": [
    "import nltk\n",
    "nltk.download('stopwords')"
   ]
  },
  {
   "cell_type": "code",
   "execution_count": 68,
   "id": "c5bda585-0111-4505-9adb-9fe575e4caf4",
   "metadata": {},
   "outputs": [],
   "source": [
    "stop = set(stopwords.words('english'))\n",
    "punctuation = list(string.punctuation)\n",
    "stop.update(punctuation)"
   ]
  },
  {
   "cell_type": "code",
   "execution_count": 86,
   "id": "11c66d5f-b292-46f7-883b-5f36f4a2b36a",
   "metadata": {},
   "outputs": [],
   "source": [
    "data.text = data.text.apply(lemmatize_words)"
   ]
  },
  {
   "cell_type": "code",
   "execution_count": 87,
   "id": "3a271766-3711-442b-a97c-5ff0a888cce7",
   "metadata": {},
   "outputs": [
    {
     "data": {
      "text/plain": [
       "<AxesSubplot:xlabel='fraudulent', ylabel='count'>"
      ]
     },
     "execution_count": 87,
     "metadata": {},
     "output_type": "execute_result"
    },
    {
     "data": {
      "image/png": "[encoded data removed]",
      "text/plain": [
       "<Figure size 432x288 with 1 Axes>"
      ]
     },
     "metadata": {},
     "output_type": "display_data"
    }
   ],
   "source": [
    "sns.set(style=\"darkgrid\")\n",
    "sns.countplot(x = \"fraudulent\" , data = data)"
   ]
  },
  {
   "cell_type": "code",
   "execution_count": 103,
   "id": "cfef96e2-781e-4a16-9aee-35524de807ed",
   "metadata": {},
   "outputs": [
    {
     "data": {
      "text/html": [
       "<div>\n",
       "<style scoped>\n",
       "    .dataframe tbody tr th:only-of-type {\n",
       "        vertical-align: middle;\n",
       "    }\n",
       "\n",
       "    .dataframe tbody tr th {\n",
       "        vertical-align: top;\n",
       "    }\n",
       "\n",
       "    .dataframe thead th {\n",
       "        text-align: right;\n",
       "    }\n",
       "</style>\n",
       "<table border=\"1\" class=\"dataframe\">\n",
       "  <thead>\n",
       "    <tr style=\"text-align: right;\">\n",
       "      <th></th>\n",
       "      <th>fraudulent</th>\n",
       "      <th>text</th>\n",
       "    </tr>\n",
       "  </thead>\n",
       "  <tbody>\n",
       "    <tr>\n",
       "      <th>0</th>\n",
       "      <td>0</td>\n",
       "      <td>passionate technology thrive fast-paced enviro...</td>\n",
       "    </tr>\n",
       "    <tr>\n",
       "      <th>1</th>\n",
       "      <td>1</td>\n",
       "      <td>large healthcare marketing communication netwo...</td>\n",
       "    </tr>\n",
       "    <tr>\n",
       "      <th>2</th>\n",
       "      <td>1</td>\n",
       "      <td>hire immediately bilingual (japanese, german, ...</td>\n",
       "    </tr>\n",
       "    <tr>\n",
       "      <th>3</th>\n",
       "      <td>1</td>\n",
       "      <td>concrete master inc., much success attribute s...</td>\n",
       "    </tr>\n",
       "    <tr>\n",
       "      <th>4</th>\n",
       "      <td>1</td>\n",
       "      <td>look experienced result-driven digital marketi...</td>\n",
       "    </tr>\n",
       "    <tr>\n",
       "      <th>...</th>\n",
       "      <td>...</td>\n",
       "      <td>...</td>\n",
       "    </tr>\n",
       "    <tr>\n",
       "      <th>3841</th>\n",
       "      <td>1</td>\n",
       "      <td>must apply website apply here: remote work hom...</td>\n",
       "    </tr>\n",
       "    <tr>\n",
       "      <th>3842</th>\n",
       "      <td>1</td>\n",
       "      <td>must apply website apply here: remote work hom...</td>\n",
       "    </tr>\n",
       "    <tr>\n",
       "      <th>3843</th>\n",
       "      <td>1</td>\n",
       "      <td>must apply website apply here: remote work hom...</td>\n",
       "    </tr>\n",
       "    <tr>\n",
       "      <th>3844</th>\n",
       "      <td>1</td>\n",
       "      <td>must apply website apply here: remote work hom...</td>\n",
       "    </tr>\n",
       "    <tr>\n",
       "      <th>3845</th>\n",
       "      <td>1</td>\n",
       "      <td>look master multi-tasker excellent communicati...</td>\n",
       "    </tr>\n",
       "  </tbody>\n",
       "</table>\n",
       "<p>3846 rows × 2 columns</p>\n",
       "</div>"
      ],
      "text/plain": [
       "      fraudulent                                               text\n",
       "0              0  passionate technology thrive fast-paced enviro...\n",
       "1              1  large healthcare marketing communication netwo...\n",
       "2              1  hire immediately bilingual (japanese, german, ...\n",
       "3              1  concrete master inc., much success attribute s...\n",
       "4              1  look experienced result-driven digital marketi...\n",
       "...          ...                                                ...\n",
       "3841           1  must apply website apply here: remote work hom...\n",
       "3842           1  must apply website apply here: remote work hom...\n",
       "3843           1  must apply website apply here: remote work hom...\n",
       "3844           1  must apply website apply here: remote work hom...\n",
       "3845           1  look master multi-tasker excellent communicati...\n",
       "\n",
       "[3846 rows x 2 columns]"
      ]
     },
     "execution_count": 103,
     "metadata": {},
     "output_type": "execute_result"
    }
   ],
   "source": [
    "data"
   ]
  },
  {
   "cell_type": "code",
   "execution_count": 127,
   "id": "d69293d7-597d-4fe1-84bc-4dcac30f45d0",
   "metadata": {},
   "outputs": [],
   "source": [
    "data.loc[0, \"fraudulent\"] = 0\n",
    "data.loc[89, \"fraudulent\"] = 0"
   ]
  },
  {
   "cell_type": "code",
   "execution_count": 89,
   "id": "95a32f10-15a4-4ee7-92ca-5102c493823e",
   "metadata": {},
   "outputs": [],
   "source": [
    "def remove_website_links(text):\n",
    "    # Define a regular expression pattern to match URLs\n",
    "    pattern = r\"http[s]?://(?:[a-zA-Z]|[0-9]|[$-_@.&+]|[!*\\\\(\\\\),]|(?:%[0-9a-fA-F][0-9a-fA-F]))+\"\n",
    "    return re.sub(pattern, \"\", text)\n",
    "\n",
    "# Apply the remove_website_links function to the 'text' column\n",
    "data['text'] = data['text'].apply(remove_website_links)"
   ]
  },
  {
   "cell_type": "code",
   "execution_count": 90,
   "id": "0e365104-d8b7-408c-9002-38fbb8cd0411",
   "metadata": {},
   "outputs": [],
   "source": [
    "X_test = data.text"
   ]
  },
  {
   "cell_type": "code",
   "execution_count": 128,
   "id": "4336d5bd-fcd8-4682-b717-390360c04271",
   "metadata": {},
   "outputs": [],
   "source": [
    "y_test = data.fraudulent"
   ]
  },
  {
   "cell_type": "code",
   "execution_count": 92,
   "id": "38118d27-edaa-4426-b05c-a3d31ecf6a69",
   "metadata": {},
   "outputs": [
    {
     "data": {
      "text/plain": [
       "0       passionate technology thrive fast-paced enviro...\n",
       "1       large healthcare marketing communication netwo...\n",
       "2       hire immediately bilingual (japanese, german, ...\n",
       "3       concrete master inc., much success attribute s...\n",
       "4       look experienced result-driven digital marketi...\n",
       "                              ...                        \n",
       "3841    must apply website apply here: remote work hom...\n",
       "3842    must apply website apply here: remote work hom...\n",
       "3843    must apply website apply here: remote work hom...\n",
       "3844    must apply website apply here: remote work hom...\n",
       "3845    look master multi-tasker excellent communicati...\n",
       "Name: text, Length: 3846, dtype: object"
      ]
     },
     "execution_count": 92,
     "metadata": {},
     "output_type": "execute_result"
    }
   ],
   "source": [
    "X_test"
   ]
  },
  {
   "cell_type": "code",
   "execution_count": 95,
   "id": "d7ebf5bc-c94c-4eda-a48f-d1f166a5a98b",
   "metadata": {},
   "outputs": [
    {
     "name": "stdout",
     "output_type": "stream",
     "text": [
      "BOW_cv_train: (15992, 1581000)\n",
      "BOW_cv_test: (3846, 1581000)\n"
     ]
    }
   ],
   "source": [
    "cv=CountVectorizer(min_df=0,max_df=1,binary=False,ngram_range=(1,3))\n",
    "#transformed train reviews\n",
    "cv_train_reviews=cv.fit_transform(X_train.text)\n",
    "#transformed test reviews\n",
    "cv_test_reviews=cv.transform(X_test)\n",
    "\n",
    "print('BOW_cv_train:',cv_train_reviews.shape)\n",
    "print('BOW_cv_test:',cv_test_reviews.shape)"
   ]
  },
  {
   "cell_type": "code",
   "execution_count": 96,
   "id": "dc37183d-9676-41c0-8f40-19af5941d27c",
   "metadata": {},
   "outputs": [
    {
     "name": "stdout",
     "output_type": "stream",
     "text": [
      "Tfidf_train: (15992, 1581000)\n",
      "Tfidf_test: (3846, 1581000)\n"
     ]
    }
   ],
   "source": [
    "tv=TfidfVectorizer(min_df=0,max_df=1,use_idf=True,ngram_range=(1,3))\n",
    "#transformed train reviews\n",
    "tv_train_reviews=tv.fit_transform(X_train.text)\n",
    "#transformed test reviews\n",
    "tv_test_reviews=tv.transform(X_test)\n",
    "print('Tfidf_train:',tv_train_reviews.shape)\n",
    "print('Tfidf_test:',tv_test_reviews.shape)"
   ]
  },
  {
   "cell_type": "markdown",
   "id": "6825a603-64d3-4e54-9c35-e80b3ad7a325",
   "metadata": {},
   "source": [
    "#### mnb"
   ]
  },
  {
   "cell_type": "code",
   "execution_count": 100,
   "id": "15ad3b58-08f0-4612-ad32-8b27aa91810e",
   "metadata": {},
   "outputs": [],
   "source": [
    "#Predicting the model for bag of words\n",
    "mnb_bow_predict=mnb.predict(cv_test_reviews)\n",
    "#Predicting the model for tfidf features\n",
    "mnb_tfidf_predict=mnb.predict(tv_test_reviews)"
   ]
  },
  {
   "cell_type": "code",
   "execution_count": 129,
   "id": "c37fdf83-8e98-41b6-a6ff-de71530f42db",
   "metadata": {},
   "outputs": [
    {
     "data": {
      "text/plain": [
       "0.8579604578563995"
      ]
     },
     "execution_count": 129,
     "metadata": {},
     "output_type": "execute_result"
    }
   ],
   "source": [
    "y_pred = mnb.predict_proba(cv_test_reviews)[:, 1]\n",
    "cv_auc = roc_auc_score(y_test, y_pred)\n",
    "cv_auc"
   ]
  },
  {
   "cell_type": "code",
   "execution_count": 130,
   "id": "7dda1684-06da-4f18-b63b-fdbb9fe0d21c",
   "metadata": {},
   "outputs": [
    {
     "data": {
      "text/plain": [
       "0.3558792924037461"
      ]
     },
     "execution_count": 130,
     "metadata": {},
     "output_type": "execute_result"
    }
   ],
   "source": [
    "tn, fp, fn, tp = confusion_matrix(y_test, mnb_bow_predict).ravel()\n",
    "cv_ber = 0.5 * (fp / (fp + tn) + fn / (fn + tp))\n",
    "cv_ber"
   ]
  },
  {
   "cell_type": "code",
   "execution_count": 131,
   "id": "a008f1a9-f9b4-488d-a317-891508b42923",
   "metadata": {},
   "outputs": [
    {
     "data": {
      "text/plain": [
       "0.28861154446177845"
      ]
     },
     "execution_count": 131,
     "metadata": {},
     "output_type": "execute_result"
    }
   ],
   "source": [
    "accuracy_score(mnb_bow_predict,y_test)"
   ]
  },
  {
   "cell_type": "code",
   "execution_count": 132,
   "id": "94eedafc-ec83-4eae-a80a-0a08921e4cfc",
   "metadata": {},
   "outputs": [
    {
     "data": {
      "text/plain": [
       "array([[   2,    0],\n",
       "       [2736, 1108]])"
      ]
     },
     "execution_count": 132,
     "metadata": {},
     "output_type": "execute_result"
    }
   ],
   "source": [
    "cm_cv = confusion_matrix(y_test,mnb_bow_predict)\n",
    "cm_cv"
   ]
  },
  {
   "cell_type": "code",
   "execution_count": 133,
   "id": "370aee3c-db12-4293-b4d1-16b860a1a80c",
   "metadata": {},
   "outputs": [],
   "source": [
    "cm_cv = pd.DataFrame(cm_cv, index=[0,1], columns=[0,1])\n",
    "cm_cv.index.name = 'Actual'\n",
    "cm_cv.columns.name = 'Predicted'"
   ]
  },
  {
   "cell_type": "code",
   "execution_count": 134,
   "id": "d50638d0-36ba-4f5b-93a3-8cb43a249a82",
   "metadata": {},
   "outputs": [
    {
     "data": {
      "text/plain": [
       "<AxesSubplot:xlabel='Predicted', ylabel='Actual'>"
      ]
     },
     "execution_count": 134,
     "metadata": {},
     "output_type": "execute_result"
    },
    {
     "data": {
      "image/png": "[encoded data removed]",
      "text/plain": [
       "<Figure size 720x720 with 2 Axes>"
      ]
     },
     "metadata": {},
     "output_type": "display_data"
    }
   ],
   "source": [
    "plt.figure(figsize = (10,10))\n",
    "sns.heatmap(cm_cv,cmap= \"Blues\",annot = True, fmt='')"
   ]
  },
  {
   "cell_type": "code",
   "execution_count": 135,
   "id": "47da0414-0743-47b6-b7bd-f2f4113ad4c6",
   "metadata": {},
   "outputs": [
    {
     "data": {
      "text/plain": [
       "0.8573100936524454"
      ]
     },
     "execution_count": 135,
     "metadata": {},
     "output_type": "execute_result"
    }
   ],
   "source": [
    "y_pred = mnb.predict_proba(tv_test_reviews)[:, 1]\n",
    "tv_auc = roc_auc_score(y_test, y_pred)\n",
    "tv_auc"
   ]
  },
  {
   "cell_type": "code",
   "execution_count": 136,
   "id": "b15f01cf-660b-4b4b-aba7-07f5a1bf5b43",
   "metadata": {},
   "outputs": [
    {
     "data": {
      "text/plain": [
       "0.49440686784599375"
      ]
     },
     "execution_count": 136,
     "metadata": {},
     "output_type": "execute_result"
    }
   ],
   "source": [
    "tn, fp, fn, tp = confusion_matrix(y_test, mnb_tfidf_predict).ravel()\n",
    "tv_ber = 0.5 * (fp / (fp + tn) + fn / (fn + tp))\n",
    "tv_ber"
   ]
  },
  {
   "cell_type": "code",
   "execution_count": 137,
   "id": "9949637e-afa7-48c4-9757-7a40c9f8fa67",
   "metadata": {},
   "outputs": [
    {
     "data": {
      "text/plain": [
       "0.01170046801872075"
      ]
     },
     "execution_count": 137,
     "metadata": {},
     "output_type": "execute_result"
    }
   ],
   "source": [
    "accuracy_score(mnb_tfidf_predict,y_test)"
   ]
  },
  {
   "cell_type": "markdown",
   "id": "f3b01f43-3ae9-4e88-8d9d-d6c5314141d7",
   "metadata": {},
   "source": [
    "#### knn"
   ]
  },
  {
   "cell_type": "code",
   "execution_count": 114,
   "id": "3068a86f-b72d-4794-a86d-87c4e564881d",
   "metadata": {},
   "outputs": [],
   "source": [
    "knn_bow_predict=knn.predict(cv_test_reviews)\n",
    "#Predicting the model for tfidf features\n",
    "knn_tfidf_predict=knn.predict(tv_test_reviews)"
   ]
  },
  {
   "cell_type": "code",
   "execution_count": 138,
   "id": "b55ef5b6-680b-4f6c-a3a8-1113559e1619",
   "metadata": {},
   "outputs": [
    {
     "data": {
      "text/plain": [
       "0.4981789802289282"
      ]
     },
     "execution_count": 138,
     "metadata": {},
     "output_type": "execute_result"
    }
   ],
   "source": [
    "y_pred = knn.predict_proba(cv_test_reviews)[:, 1]\n",
    "cv_auc = roc_auc_score(y_test, y_pred)\n",
    "cv_auc"
   ]
  },
  {
   "cell_type": "code",
   "execution_count": 139,
   "id": "ea9efda5-a15d-4e8f-a8ba-c632c0fbb922",
   "metadata": {},
   "outputs": [
    {
     "data": {
      "text/plain": [
       "0.5"
      ]
     },
     "execution_count": 139,
     "metadata": {},
     "output_type": "execute_result"
    }
   ],
   "source": [
    "y_pred = knn.predict_proba(tv_test_reviews)[:, 1]\n",
    "tv_auc = roc_auc_score(y_test, y_pred)\n",
    "tv_auc"
   ]
  },
  {
   "cell_type": "code",
   "execution_count": 140,
   "id": "de9c130c-5e9c-4a8e-b93f-0a425645efd7",
   "metadata": {},
   "outputs": [
    {
     "data": {
      "text/plain": [
       "0.5"
      ]
     },
     "execution_count": 140,
     "metadata": {},
     "output_type": "execute_result"
    }
   ],
   "source": [
    "tn, fp, fn, tp = confusion_matrix(y_test, knn_bow_predict).ravel()\n",
    "ber = 0.5 * (fp / (fp + tn) + fn / (fn + tp))\n",
    "ber"
   ]
  },
  {
   "cell_type": "code",
   "execution_count": 141,
   "id": "a7651ddc-bd67-450c-9069-cbb7738a1a7f",
   "metadata": {},
   "outputs": [
    {
     "data": {
      "text/plain": [
       "0.5"
      ]
     },
     "execution_count": 141,
     "metadata": {},
     "output_type": "execute_result"
    }
   ],
   "source": [
    "tn, fp, fn, tp = confusion_matrix(y_test, knn_tfidf_predict).ravel()\n",
    "ber = 0.5 * (fp / (fp + tn) + fn / (fn + tp))\n",
    "ber"
   ]
  },
  {
   "cell_type": "code",
   "execution_count": 142,
   "id": "5d2f3121-8477-4d62-b5d1-80aecf6a0b40",
   "metadata": {},
   "outputs": [
    {
     "data": {
      "text/plain": [
       "0.999479979199168"
      ]
     },
     "execution_count": 142,
     "metadata": {},
     "output_type": "execute_result"
    }
   ],
   "source": [
    "accuracy_score(knn_bow_predict,y_test)"
   ]
  },
  {
   "cell_type": "code",
   "execution_count": 143,
   "id": "d339897a-ded2-4b15-afe9-6f61c35a6dc3",
   "metadata": {},
   "outputs": [
    {
     "data": {
      "text/plain": [
       "0.999479979199168"
      ]
     },
     "execution_count": 143,
     "metadata": {},
     "output_type": "execute_result"
    }
   ],
   "source": [
    "accuracy_score(knn_tfidf_predict,y_test)"
   ]
  },
  {
   "cell_type": "code",
   "execution_count": 144,
   "id": "5b6fc1d5-177f-4a8a-8897-dc4777541ec7",
   "metadata": {},
   "outputs": [],
   "source": [
    "cm_cv = confusion_matrix(y_test,knn_bow_predict)\n",
    "cm_tv = confusion_matrix(y_test,knn_tfidf_predict)"
   ]
  },
  {
   "cell_type": "code",
   "execution_count": 145,
   "id": "be058b14-0cb3-46eb-8e02-66f93fc6a130",
   "metadata": {},
   "outputs": [],
   "source": [
    "cm_cv = pd.DataFrame(cm_cv, index=[0,1], columns=[0,1])\n",
    "cm_cv.index.name = 'Actual'\n",
    "cm_cv.columns.name = 'Predicted'\n",
    "cm_tv = pd.DataFrame(cm_tv, index=[0,1], columns=[0,1])\n",
    "cm_tv.index.name = 'Actual'\n",
    "cm_tv.columns.name = 'Predicted'"
   ]
  },
  {
   "cell_type": "code",
   "execution_count": 146,
   "id": "61a335a5-4fce-4985-96ce-87121a11270a",
   "metadata": {},
   "outputs": [
    {
     "data": {
      "text/plain": [
       "<AxesSubplot:xlabel='Predicted', ylabel='Actual'>"
      ]
     },
     "execution_count": 146,
     "metadata": {},
     "output_type": "execute_result"
    },
    {
     "data": {
      "image/png": "[encoded data removed]",
      "text/plain": [
       "<Figure size 720x720 with 2 Axes>"
      ]
     },
     "metadata": {},
     "output_type": "display_data"
    }
   ],
   "source": [
    "plt.figure(figsize = (10,10))\n",
    "sns.heatmap(cm_cv,cmap= \"Blues\",annot = True, fmt='')"
   ]
  },
  {
   "cell_type": "code",
   "execution_count": 147,
   "id": "ff5a590a-257d-4d64-bb9e-7cae271cf65f",
   "metadata": {},
   "outputs": [
    {
     "data": {
      "text/plain": [
       "<AxesSubplot:xlabel='Predicted', ylabel='Actual'>"
      ]
     },
     "execution_count": 147,
     "metadata": {},
     "output_type": "execute_result"
    },
    {
     "data": {
      "image/png": "[encoded data removed]",
      "text/plain": [
       "<Figure size 720x720 with 2 Axes>"
      ]
     },
     "metadata": {},
     "output_type": "display_data"
    }
   ],
   "source": [
    "plt.figure(figsize = (10,10))\n",
    "sns.heatmap(cm_tv,cmap= \"Blues\",annot = True, fmt='')"
   ]
  },
  {
   "cell_type": "markdown",
   "id": "99e699a1",
   "metadata": {},
   "source": [
    "### Bert Model"
   ]
  },
  {
   "cell_type": "code",
   "execution_count": 3,
   "id": "e5c3eeeb",
   "metadata": {},
   "outputs": [],
   "source": [
    "balanced_data = pd.read_csv(\"sampled_data.csv\")"
   ]
  },
  {
   "cell_type": "code",
   "execution_count": 4,
   "id": "51c6d34d",
   "metadata": {},
   "outputs": [
    {
     "data": {
      "text/plain": [
       "0        Building great professional social networks is...\n",
       "1        (We have more than 1500+ Job openings in our w...\n",
       "2        We exist inquisitory for adenine web couturier...\n",
       "3        We are Netguru and we love to develop network ...\n",
       "4        We be looking to rent adenine dynamic data ent...\n",
       "                               ...                        \n",
       "19995    Desired Skills and Experience:BA/BS in Compute...\n",
       "19996    virtual adjunct job province react to electron...\n",
       "19997    put drumhead basic datum entrance clerk want -...\n",
       "19998    Play with kids, get paid for it Love travel? J...\n",
       "19999    Government funding is only available for 16-18...\n",
       "Name: text, Length: 20000, dtype: object"
      ]
     },
     "execution_count": 4,
     "metadata": {},
     "output_type": "execute_result"
    }
   ],
   "source": [
    "balanced_data['text']"
   ]
  },
  {
   "cell_type": "code",
   "execution_count": 6,
   "id": "b8df0538",
   "metadata": {
    "scrolled": false
   },
   "outputs": [],
   "source": [
    "target = balanced_data['fraudulent']\n",
    "text = balanced_data[balanced_data.columns[-1]]"
   ]
  },
  {
   "cell_type": "code",
   "execution_count": 7,
   "id": "d3b19244",
   "metadata": {},
   "outputs": [
    {
     "name": "stdout",
     "output_type": "stream",
     "text": [
      "CPU times: user 7.41 s, sys: 84.2 ms, total: 7.49 s\n",
      "Wall time: 7.56 s\n"
     ]
    },
    {
     "data": {
      "text/plain": [
       "0    building great professional social networks is...\n",
       "1    we have more than  job openings in our website...\n",
       "2    we exist inquisitory for adenine web couturier...\n",
       "Name: text, dtype: object"
      ]
     },
     "execution_count": 7,
     "metadata": {},
     "output_type": "execute_result"
    }
   ],
   "source": [
    "%%time\n",
    "def clean_text(text):\n",
    "    '''Make text lowercase, remove text in square brackets,remove links,remove punctuation\n",
    "    and remove words containing numbers.'''\n",
    "    text = text.lower()\n",
    "    text = re.sub('\\[.*?\\]', '', text)\n",
    "    text = re.sub('https?://\\S+|www\\.\\S+', '', text)\n",
    "    text = re.sub('<.*?>+', '', text)\n",
    "    text = re.sub('[%s]' % re.escape(string.punctuation), '', text)\n",
    "    text = re.sub('\\n', '', text)\n",
    "    text = re.sub('\\w*\\d\\w*', '', text)\n",
    "    return text\n",
    "\n",
    "\n",
    "# Applying the cleaning function to both test and training datasets\n",
    "text = text.apply(lambda x: clean_text(x))\n",
    "text.head(3)"
   ]
  },
  {
   "cell_type": "code",
   "execution_count": 8,
   "id": "fcc367bc",
   "metadata": {},
   "outputs": [
    {
     "name": "stdout",
     "output_type": "stream",
     "text": [
      "CPU times: user 1.93 s, sys: 177 ms, total: 2.11 s\n",
      "Wall time: 2.19 s\n"
     ]
    },
    {
     "data": {
      "text/plain": [
       "0    [building, great, professional, social, networ...\n",
       "1    [we, have, more, than, job, openings, in, our,...\n",
       "2    [we, exist, inquisitory, for, adenine, web, co...\n",
       "Name: text, dtype: object"
      ]
     },
     "execution_count": 8,
     "metadata": {},
     "output_type": "execute_result"
    }
   ],
   "source": [
    "%%time\n",
    "tokenizer = nltk.tokenize.RegexpTokenizer(r'\\w+')\n",
    "\n",
    "# appling tokenizer5\n",
    "text = text.apply(lambda x: tokenizer.tokenize(x))\n",
    "text.head(3)"
   ]
  },
  {
   "cell_type": "code",
   "execution_count": 9,
   "id": "dd7808bc",
   "metadata": {},
   "outputs": [
    {
     "name": "stdout",
     "output_type": "stream",
     "text": [
      "CPU times: user 10.2 s, sys: 94 ms, total: 10.3 s\n",
      "Wall time: 10.4 s\n"
     ]
    }
   ],
   "source": [
    "%%time\n",
    "stop_words = stopwords.words('english')\n",
    "def remove_stopwords(text):\n",
    "    \"\"\"\n",
    "    Removing stopwords belonging to english language\n",
    "    \n",
    "    \"\"\"\n",
    "    words = [w for w in text if w not in stop_words]\n",
    "    return words\n",
    "\n",
    "\n",
    "text = text.apply(lambda x : remove_stopwords(x))"
   ]
  },
  {
   "cell_type": "code",
   "execution_count": 10,
   "id": "234e1c77",
   "metadata": {},
   "outputs": [
    {
     "name": "stdout",
     "output_type": "stream",
     "text": [
      "CPU times: user 200 ms, sys: 22.7 ms, total: 223 ms\n",
      "Wall time: 233 ms\n"
     ]
    },
    {
     "data": {
      "text/plain": [
       "0    building great professional social networks to...\n",
       "1    job openings website relevant job feel free se...\n",
       "2    exist inquisitory adenine web couturier battle...\n",
       "Name: text, dtype: object"
      ]
     },
     "execution_count": 10,
     "metadata": {},
     "output_type": "execute_result"
    }
   ],
   "source": [
    "%%time\n",
    "def combine_text(list_of_text):\n",
    "    combined_text = ' '.join(list_of_text)\n",
    "    return combined_text\n",
    "\n",
    "text = text.apply(lambda x : combine_text(x))\n",
    "text.head(3)"
   ]
  },
  {
   "cell_type": "markdown",
   "id": "13cd212e",
   "metadata": {},
   "source": [
    "### use 6000 records"
   ]
  },
  {
   "cell_type": "code",
   "execution_count": 11,
   "id": "d1db4e56",
   "metadata": {},
   "outputs": [
    {
     "data": {
      "text/plain": [
       "0    3214\n",
       "1    2786\n",
       "Name: fraudulent, dtype: int64"
      ]
     },
     "execution_count": 11,
     "metadata": {},
     "output_type": "execute_result"
    }
   ],
   "source": [
    "batch_1 = text[:6000]\n",
    "target_1 = target[:6000]\n",
    "target_1.value_counts()\n"
   ]
  },
  {
   "cell_type": "code",
   "execution_count": 12,
   "id": "9318496a",
   "metadata": {},
   "outputs": [],
   "source": [
    "# importing the tools \n",
    "import torch\n",
    "import transformers as ppb\n",
    "import warnings\n",
    "from sklearn.metrics import f1_score, roc_auc_score\n",
    "warnings.filterwarnings('ignore')"
   ]
  },
  {
   "cell_type": "code",
   "execution_count": 13,
   "id": "89fa3983",
   "metadata": {
    "scrolled": true
   },
   "outputs": [
    {
     "name": "stderr",
     "output_type": "stream",
     "text": [
      "Some weights of the model checkpoint at distilbert-base-uncased were not used when initializing DistilBertModel: ['vocab_transform.weight', 'vocab_layer_norm.bias', 'vocab_layer_norm.weight', 'vocab_projector.bias', 'vocab_projector.weight', 'vocab_transform.bias']\n",
      "- This IS expected if you are initializing DistilBertModel from the checkpoint of a model trained on another task or with another architecture (e.g. initializing a BertForSequenceClassification model from a BertForPreTraining model).\n",
      "- This IS NOT expected if you are initializing DistilBertModel from the checkpoint of a model that you expect to be exactly identical (initializing a BertForSequenceClassification model from a BertForSequenceClassification model).\n"
     ]
    }
   ],
   "source": [
    "model_class, tokenizer_class, pretrained_weights = (ppb.DistilBertModel, ppb.DistilBertTokenizer, 'distilbert-base-uncased')\n",
    "\n",
    "# Load pretrained model/tokenizer\n",
    "tokenizer = tokenizer_class.from_pretrained(pretrained_weights)\n",
    "model = model_class.from_pretrained(pretrained_weights)"
   ]
  },
  {
   "cell_type": "code",
   "execution_count": 14,
   "id": "575acfa2",
   "metadata": {},
   "outputs": [
    {
     "name": "stderr",
     "output_type": "stream",
     "text": [
      "Truncation was not explicitly activated but `max_length` is provided a specific value, please use `truncation=True` to explicitly truncate examples to max length. Defaulting to 'longest_first' truncation strategy. If you encode pairs of sequences (GLUE-style) with the tokenizer you can select this strategy more precisely by providing a specific strategy to `truncation`.\n"
     ]
    },
    {
     "name": "stdout",
     "output_type": "stream",
     "text": [
      "CPU times: user 40.6 s, sys: 115 ms, total: 40.7 s\n",
      "Wall time: 41.5 s\n"
     ]
    },
    {
     "data": {
      "text/plain": [
       "(6000,)"
      ]
     },
     "execution_count": 14,
     "metadata": {},
     "output_type": "execute_result"
    }
   ],
   "source": [
    "%%time\n",
    "# Tokenization\n",
    "tokenized = batch_1.apply((lambda x: tokenizer.encode(x, max_length = 60, add_special_tokens=True)))\n",
    "tokenized.shape"
   ]
  },
  {
   "cell_type": "code",
   "execution_count": 15,
   "id": "a1315c1a",
   "metadata": {},
   "outputs": [
    {
     "data": {
      "text/plain": [
       "(6000, 60)"
      ]
     },
     "execution_count": 15,
     "metadata": {},
     "output_type": "execute_result"
    }
   ],
   "source": [
    "# Padding ==> convert 1D array to 2D array\n",
    "max_len = 0\n",
    "for i in tokenized.values:\n",
    "    if len(i) > max_len:\n",
    "        max_len = len(i)\n",
    "\n",
    "padded = np.array([i + [0]*(max_len-len(i)) for i in tokenized.values])\n",
    "np.array(padded).shape"
   ]
  },
  {
   "cell_type": "code",
   "execution_count": 16,
   "id": "8d0b90f3",
   "metadata": {},
   "outputs": [
    {
     "data": {
      "text/plain": [
       "(6000, 60)"
      ]
     },
     "execution_count": 16,
     "metadata": {},
     "output_type": "execute_result"
    }
   ],
   "source": [
    "# Masking ==>  ignore (mask) the padding we've added\n",
    "attention_mask = np.where(padded != 0, 1, 0)\n",
    "attention_mask.shape"
   ]
  },
  {
   "cell_type": "code",
   "execution_count": 17,
   "id": "a0efd0c5",
   "metadata": {},
   "outputs": [
    {
     "name": "stdout",
     "output_type": "stream",
     "text": [
      "CPU times: user 15min 57s, sys: 18min 28s, total: 34min 25s\n",
      "Wall time: 44min 34s\n"
     ]
    },
    {
     "data": {
      "text/plain": [
       "torch.Size([6000, 60, 768])"
      ]
     },
     "execution_count": 17,
     "metadata": {},
     "output_type": "execute_result"
    }
   ],
   "source": [
    "%%time\n",
    "# Deep Learning\n",
    "\n",
    "input_ids = torch.tensor(padded)  \n",
    "attention_mask = torch.tensor(attention_mask)\n",
    "\n",
    "with torch.no_grad():\n",
    "    last_hidden_states = model(input_ids, attention_mask=attention_mask)\n",
    "\n",
    "last_hidden_states[0].shape"
   ]
  },
  {
   "cell_type": "code",
   "execution_count": 18,
   "id": "6eadd968",
   "metadata": {},
   "outputs": [],
   "source": [
    "features = last_hidden_states[0][:,0,:].numpy()\n",
    "labels = target_1"
   ]
  },
  {
   "cell_type": "markdown",
   "id": "7b2efd0f",
   "metadata": {},
   "source": [
    "#### Train Test Split"
   ]
  },
  {
   "cell_type": "code",
   "execution_count": 19,
   "id": "54fb57df",
   "metadata": {},
   "outputs": [],
   "source": [
    "train_features, test_features, train_labels, test_labels = train_test_split(features, labels)"
   ]
  },
  {
   "cell_type": "code",
   "execution_count": 20,
   "id": "0ed073fa",
   "metadata": {},
   "outputs": [
    {
     "name": "stdout",
     "output_type": "stream",
     "text": [
      "penalty: l2 \n",
      "Solver: liblinear \n",
      "AUC: 0.89158 \n",
      "C= 0.3 \n",
      "\n",
      "penalty: l2 \n",
      "Solver: liblinear \n",
      "AUC: 0.8983 \n",
      "C= 0.7 \n",
      "\n",
      "penalty: l2 \n",
      "Solver: liblinear \n",
      "AUC: 0.89804 \n",
      "C= 1 \n",
      "\n",
      "penalty: l2 \n",
      "Solver: lbfgs \n",
      "AUC: 0.89158 \n",
      "C= 0.3 \n",
      "\n",
      "penalty: l2 \n",
      "Solver: lbfgs \n",
      "AUC: 0.8983 \n",
      "C= 0.7 \n",
      "\n",
      "penalty: l2 \n",
      "Solver: lbfgs \n",
      "AUC: 0.89804 \n",
      "C= 1 \n",
      "\n",
      "penalty: l2 \n",
      "Solver: sag \n",
      "AUC: 0.89158 \n",
      "C= 0.3 \n",
      "\n",
      "penalty: l2 \n",
      "Solver: sag \n",
      "AUC: 0.8983 \n",
      "C= 0.7 \n",
      "\n",
      "penalty: l2 \n",
      "Solver: sag \n",
      "AUC: 0.89804 \n",
      "C= 1 \n",
      "\n",
      "penalty: l2 \n",
      "Solver: newton-cg \n",
      "AUC: 0.89158 \n",
      "C= 0.3 \n",
      "\n",
      "penalty: l2 \n",
      "Solver: newton-cg \n",
      "AUC: 0.8983 \n",
      "C= 0.7 \n",
      "\n",
      "penalty: l2 \n",
      "Solver: newton-cg \n",
      "AUC: 0.89804 \n",
      "C= 1 \n",
      "\n",
      "penalty: none \n",
      "Solver: liblinear \n",
      "AUC: 0.90207 \n",
      "C= 0 \n",
      "\n",
      "penalty: none \n",
      "Solver: lbfgs \n",
      "AUC: 0.90207 \n",
      "C= 0 \n",
      "\n",
      "penalty: none \n",
      "Solver: sag \n",
      "AUC: 0.90207 \n",
      "C= 0 \n",
      "\n",
      "penalty: none \n",
      "Solver: newton-cg \n",
      "AUC: 0.90207 \n",
      "C= 0 \n",
      "\n",
      "CPU times: user 9.3 s, sys: 393 ms, total: 9.7 s\n",
      "Wall time: 5.39 s\n"
     ]
    }
   ],
   "source": [
    "%%time\n",
    "# train default para\n",
    "penalties = [\"l1\", 'l2', 'none']\n",
    "solvers = ['liblinear', 'lbfgs', 'sag','newton-cg']\n",
    "Cs = [0, 0.3, 0.7, 1]\n",
    "AUC = []\n",
    "for penalty in penalties:\n",
    "    for solver in solvers:\n",
    "        for c in Cs:\n",
    "            try:\n",
    "                if penalty == 'none' and c != 0: pass\n",
    "                else:\n",
    "                    lr_clf = LogisticRegression(penalty=penalty, C=c, solver='lbfgs', max_iter=100)\n",
    "                    lr_clf.fit(train_features, train_labels)\n",
    "                    predictions = lr_clf.predict(test_features)\n",
    "                    predictions = np.round(predictions).astype(int)\n",
    "                    auc = np.round(roc_auc_score(test_labels, predictions),5)\n",
    "                    AUC.append(auc)\n",
    "                    print(\"penalty:\", penalty, \"\\nSolver:\", solver, \"\\nAUC:\", auc, \"\\nC=\", c, '\\n')\n",
    "            except:\n",
    "                pass"
   ]
  },
  {
   "cell_type": "code",
   "execution_count": 36,
   "id": "3d4d4aff",
   "metadata": {},
   "outputs": [
    {
     "name": "stdout",
     "output_type": "stream",
     "text": [
      "Solver liblinear does not support none penalty\n",
      "Solver: lbfgs \n",
      "AUC: 0.90207 \n",
      "ber: 0.09793171654626762 \n",
      "accuracy: 0.904 \n",
      "\n",
      "Solver: sag \n",
      "AUC: 0.90476 \n",
      "ber: 0.09524423804609564 \n",
      "accuracy: 0.9066666666666666 \n",
      "\n",
      "Solver: newton-cg \n",
      "AUC: 0.85898 \n",
      "ber: 0.14101737186102511 \n",
      "accuracy: 0.8586666666666667 \n",
      "\n"
     ]
    }
   ],
   "source": [
    "# Reduce the scope and evaluate the performance\n",
    "for solver in solvers:\n",
    "    lr_clf = LogisticRegression(penalty='none', C=0.6, solver=solver, max_iter=100)\n",
    "    try:\n",
    "        lr_clf.fit(train_features, train_labels)\n",
    "        predictions = lr_clf.predict(test_features)\n",
    "        predictions = np.round(predictions).astype(int)\n",
    "        auc = np.round(roc_auc_score(test_labels, predictions),5)\n",
    "        tn, fp, fn, tp = confusion_matrix(test_labels, predictions).ravel()\n",
    "        ber = 0.5 * (fp / (fp + tn) + fn / (fn + tp))\n",
    "        accu = np.sum(test_labels == predictions)/len(test_labels)\n",
    "        print(\"Solver:\", solver, \"\\nAUC:\", auc, '\\nber:', ber, '\\naccuracy:',accu,'\\n')\n",
    "    except: print(\"Solver\",solver, \"does not support none penalty\")"
   ]
  },
  {
   "cell_type": "code",
   "execution_count": null,
   "id": "9c6af5ce",
   "metadata": {},
   "outputs": [],
   "source": []
  }
 ],
 "metadata": {
  "kernelspec": {
   "display_name": "Python 3 (ipykernel)",
   "language": "python",
   "name": "python3"
  },
  "language_info": {
   "codemirror_mode": {
    "name": "ipython",
    "version": 3
   },
   "file_extension": ".py",
   "mimetype": "text/x-python",
   "name": "python",
   "nbconvert_exporter": "python",
   "pygments_lexer": "ipython3",
   "version": "3.8.8"
  }
 },
 "nbformat": 4,
 "nbformat_minor": 5
}
